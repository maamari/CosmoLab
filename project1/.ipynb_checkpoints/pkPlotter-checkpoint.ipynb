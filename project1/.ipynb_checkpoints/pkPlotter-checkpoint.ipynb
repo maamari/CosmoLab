{
 "cells": [
  {
   "cell_type": "markdown",
   "metadata": {},
   "source": [
    "### The following is a method to construct a plot of the brightness temperature vs redshift for a given ini file"
   ]
  },
  {
   "cell_type": "markdown",
   "metadata": {},
   "source": [
    "---"
   ]
  },
  {
   "cell_type": "markdown",
   "metadata": {},
   "source": [
    "### A few things to note wrt inputting a new Pk:\n",
    "1. Ares uses CAMB to generate the PS\n",
    "2. As far as I can tell, ares, by default, sets P(k) to CAMB's default\n",
    "3. The way to input the power table is via CAMB's \"set_initial_power_table\" function \n",
    "4. The function used below to tabulate and save the HMF is incredibly slow -- you have been warned"
   ]
  },
  {
   "cell_type": "markdown",
   "metadata": {},
   "source": [
    "---"
   ]
  },
  {
   "cell_type": "markdown",
   "metadata": {},
   "source": [
    "### To obtain Tb vs z plots:\n",
    "1. Initialize CAMB/ares objects\n",
    "2. For class inifiles, parse through and grab the 6 relevant parameters (h, omegab, omegaCDM, As, ns, tau) from the class ini and overwrite existing camb parameters\n",
    "3. For camb inifiles, read the ini\n",
    "4. Set ares object with camb params\n",
    "5. Tabulate and save HMF file\n",
    "6. Move HMF file to hmf folder in /ares/ares/input\n",
    "7. Make plot"
   ]
  },
  {
   "cell_type": "code",
   "execution_count": 4,
   "metadata": {},
   "outputs": [],
   "source": [
    "import camb\n",
    "import ares\n",
    "import pandas as pd\n",
    "import matplotlib.pyplot as pl\n",
    "import os"
   ]
  },
  {
   "cell_type": "markdown",
   "metadata": {},
   "source": [
    "#### Initializer - returns an ares object containing camb parameters"
   ]
  },
  {
   "cell_type": "code",
   "execution_count": 8,
   "metadata": {},
   "outputs": [],
   "source": [
    "def initialize(iniPath,iniType,pk):\n",
    "    \n",
    "    \"\"\"\n",
    "    params:\n",
    "    \n",
    "    iniPath (str): full path to the initial conditions file\n",
    "    iniType (str): type of ini file -- currently only supports class or camb\n",
    "    pk (arr): the P(k) table\n",
    "    \n",
    "    \"\"\"\n",
    "    \n",
    "    # Initialize CAMB/ares objects\n",
    "    self = ares.physics.HaloMassFunction()    \n",
    "    p = camb.CAMBparams()\n",
    "    \n",
    "    # If the type of ini is CLASS, parse through and set relevant params in CAMBParams()\n",
    "    if(iniType==\"class\"):\n",
    "        # Open the CLASS ini\n",
    "        with open(iniPath) as f:\n",
    "            # Iterate through each line\n",
    "            for line in f:\n",
    "                # Check each line for given parameters\n",
    "                if 'H0 =' in line:\n",
    "                    param, equals, value = line.partition('= ')\n",
    "                    hubble = float(value.rstrip())\n",
    "                elif 'Omega_b =' in line:\n",
    "                    param, equals, value = line.partition('= ')\n",
    "                    omega_b = float(value.rstrip())\n",
    "                elif 'tau_reio =' in line:\n",
    "                    param, equals, value = line.partition('= ')\n",
    "                    tau_reio = float(value.rstrip())\n",
    "                elif 'A_s =' in line:\n",
    "                    param, equals, value = line.partition('= ')\n",
    "                    A_s = float(value.rstrip())\n",
    "                elif 'n_s =' in line:\n",
    "                    param, equals, value = line.partition('= ')\n",
    "                    n_s = float(value.rstrip())\n",
    "                elif 'omega_cdm =' in line:\n",
    "                    param, equals, value = line.partition('= ')\n",
    "                    omega_cdm = float(value.rstrip())\n",
    "    \n",
    "        # Update camb parameters to class parameters for the above\n",
    "        p = camb.set_params(H0=hubble, ombh2=omega_b, omch2=omega_cdm, \n",
    "                            As=A_s, ns=n_s, tau=tau_reio)\n",
    "        \n",
    "        # Set power spectrum table to \"pk\" input\n",
    "        p = p.set_initial_power_table(k=pk[\"k\"].tolist(), pk=pk[\"P\"].tolist())\n",
    "        \n",
    "        # Update ares object with new params as per ini file\n",
    "        self._pars_transfer = {'camb_params': p}\n",
    "    \n",
    "    elif(iniType==\"camb\"):\n",
    "        p = camb.read_ini(iniPath)\n",
    "    \n",
    "    # Return the ares object\n",
    "    return self"
   ]
  },
  {
   "cell_type": "markdown",
   "metadata": {},
   "source": [
    "#### Plotter - uses initialized ares object to construct Tb vs z plot"
   ]
  },
  {
   "cell_type": "code",
   "execution_count": 9,
   "metadata": {},
   "outputs": [],
   "source": [
    "def plt_dTb_z(inipath,iniType,pk):\n",
    "    # Get initialized ares object from the above method\n",
    "    self = initialize(inipath,iniType,pk)\n",
    "    \n",
    "    # Tabulate and save the HMF\n",
    "    print(\"Note: The following step may take a while.\")\n",
    "    self.SaveHMF()\n",
    "    \n",
    "    # Move HMF from current location (ares/ares/physics/) to correct location ()\n",
    "    os.rename(\"/home/maamari/Documents/GitHub/Ares/ares/physics/hmf_ST_logM_1400_4-18_z_1201_0-60.hdf5\", \"/home/maamari/Documents/GitHub/Ares/input/hmf/hmf_ST_logM_1400_4-18_z_1201_0-60.hdf5\")\n",
    "\n",
    "    # Make and output the plot\n",
    "    sim = ares.simulations.Global21cm()\n",
    "    sim.run()\n",
    "    sim.GlobalSignature(xaxis = \"z\")\n",
    "    pl.show()"
   ]
  },
  {
   "cell_type": "markdown",
   "metadata": {},
   "source": [
    "#### Examples"
   ]
  },
  {
   "cell_type": "code",
   "execution_count": 10,
   "metadata": {
    "scrolled": false
   },
   "outputs": [
    {
     "name": "stderr",
     "output_type": "stream",
     "text": [
      "\r",
      "hmf: N/A% |                                                                                   | ETA:  --:--:-- "
     ]
    },
    {
     "name": "stdout",
     "output_type": "stream",
     "text": [
      "Note: The following step may take a while.\n",
      "Will save HMF to file ./hmf_ST_logM_1400_4-18_z_1201_0-60.hdf5\n",
      "\n",
      "##############################################################################################################\n",
      "####                                          Halo Mass function                                          ####\n",
      "##############################################################################################################\n",
      "#### ---------------------------------------------------------------------------------------------------- ####\n",
      "#### Table Limits & Resolution                                                                            ####\n",
      "#### ---------------------------------------------------------------------------------------------------- ####\n",
      "#### zmin                  : 0                                                                            ####\n",
      "#### zmax                  : 60                                                                           ####\n",
      "#### dz                    : 0.05                                                                         ####\n",
      "#### Mmin (Msun)           : 1.000000e+04                                                                 ####\n",
      "#### Mmax (Msun)           : 1.000000e+18                                                                 ####\n",
      "#### dlogM                 : 0.01                                                                         ####\n",
      "##############################################################################################################\n",
      "\n",
      "Computing ST mass function...\n"
     ]
    },
    {
     "name": "stderr",
     "output_type": "stream",
     "text": [
      "hmf: 100% |###################################################################################| Time:  2:20:02 \n",
      "mar: 100% |###################################################################################| Time:  0:05:11 \n"
     ]
    },
    {
     "name": "stdout",
     "output_type": "stream",
     "text": [
      "Wrote ./hmf_ST_logM_1400_4-18_z_1201_0-60.hdf5.\n",
      "\n",
      "##############################################################################################################\n",
      "####                                      ARES Simulation: Overview                                       ####\n",
      "##############################################################################################################\n",
      "#### ---------------------------------------------------------------------------------------------------- ####\n",
      "#### Populations                                                                                          ####\n",
      "#### ---------------------------------------------------------------------------------------------------- ####\n",
      "####               sfrd      sed    radio    O/IR    Ly-a     LW     Ly-C   X-ray    RTE                  ####\n",
      "#### pop #0  :    fcoll      yes                      x                                                   ####\n",
      "#### pop #1  : link:sfrd:0   yes                                              x                           ####\n",
      "#### pop #2  : link:sfrd:0   yes                                      x                                   ####\n",
      "#### ---------------------------------------------------------------------------------------------------- ####\n",
      "#### Physics                                                                                              ####\n",
      "#### ---------------------------------------------------------------------------------------------------- ####\n",
      "#### cgm_initial_temperature        : [10000.0]                                                           ####\n",
      "#### clumping_factor                : 1                                                                   ####\n",
      "#### secondary_ionization           : 1                                                                   ####\n",
      "#### approx_Salpha                  : 1                                                                   ####\n",
      "#### include_He                     : False                                                               ####\n",
      "#### feedback_LW                    : False                                                               ####\n",
      "##############################################################################################################\n"
     ]
    },
    {
     "name": "stderr",
     "output_type": "stream",
     "text": [
      "ares: 100% |##################################################################################| Time:  0:00:02 \n"
     ]
    },
    {
     "data": {
      "image/png": "[encoded data removed]",
      "text/plain": [
       "<matplotlib.figure.Figure at 0x7f4fb432fc90>"
      ]
     },
     "metadata": {
      "needs_background": "light"
     },
     "output_type": "display_data"
    }
   ],
   "source": [
    "# LCDM P(k)\n",
    "Pk_lcdm = pd.read_fwf('lcdm_z1_pk.dat', header=3, colspecs=[[7,26], [32,51]], names=[\"k\", \"P\"])\n",
    "# Edges P(k)\n",
    "Pk_edges = pd.read_fwf('dmeff_edges_z1_pk.dat', header=3, colspecs=[[7,26], [32,51]], names=[\"k\", \"P\"])\n",
    "# LCDM ini - used for both LCDM and Edges\n",
    "lcdm_ini = '/home/maamari/Documents/Other/CAMBlocal/inifiles/lcdm2.ini'\n",
    "\n",
    "# LCDM run\n",
    "plt_dTb_z(lcdm_ini,\"class\",Pk_lcdm)\n",
    "# Edges run\n",
    "# plt_dTb_z(lcdm_ini,\"class\",Pk_edges)"
   ]
  },
  {
   "cell_type": "code",
   "execution_count": null,
   "metadata": {},
   "outputs": [],
   "source": [
    "\"\"\" \n",
    "A short segment of code to be implemented within the\n",
    "ARES (https://ares.readthedocs.io/en/latest/index.html)\n",
    "code to account for interacting dark matter\n",
    "\n",
    "\"\"\"\n",
    "import os\n",
    "import numpy as np\n",
    "from scipy.misc import derivative\n",
    "from scipy.optimize import fsolve\n",
    "from scipy.integrate import quad, ode\n",
    "from ..util.Math import interp1d\n",
    "from ..util.ReadData import _load_inits\n",
    "from ..util.ParameterFile import ParameterFile\n",
    "from ..util.ParameterBundles import ParameterBundle\n",
    "from .Constants import c, G, km_per_mpc, m_H, m_He, sigma_SB, g_per_msun, \\\n",
    "    cm_per_mpc, cm_per_kpc, k_B, m_p\n",
    "\n",
    "##############################################################################################################################\n",
    "\n",
    "\t# Import relevant constants\n",
    "\t\tfrom Constants import m_e, m_H, sigma_T,\n",
    "\t\n",
    "\t# Variables:\n",
    "\t\t\"\"\"\n",
    "\t\tparams:\n",
    "\t\t\tm_e, m_H, sigma_T - imported\n",
    "\t\t\t*Tb, Tx - to be imported\n",
    "\t\t\t*m_x, sigma_0, sigma_He, mu_b, rho_x (possibly rho_m_z0?), c_n - nope\n",
    "\t\t\trho_gamma (rho_cdm_z0), rho_b (rho_b_z0), Tgamma (TCMB), n_e (n_e), H (hubble_0) - set above\n",
    "\t\t\ta, sigma_0 - set below\n",
    "\t\t\"\"\"\n",
    "\t\tself.rho_x = # ?\n",
    "       self.sigma_He =  # ??\n",
    "       self.m_x =   # DM Mass?\n",
    "\t\tself.mu_b =  # Mean molecular weight\n",
    "       self.c_n =   # Thermalization rate coefficients\n",
    "\t\n",
    "        def scale_factor(z):\n",
    "\t\t\treturn 1/1+z\n",
    "        self.sigma_0 = 1e-20 # ??\n",
    "\n",
    "\t# DVORKIN EVOLUTIONS:\n",
    "\t\t# Dvorkin paper - https://arxiv.org/pdf/1311.2937.pdf\n",
    "        \n",
    "\t\t# Baryonic temperature evolution\n",
    "        def dotTb(H, Tb, mu_b, m_x, m_H, Tx, rho_x, rho_b, m_e, Tgamma):\n",
    "\t\t\t# Thermalizations      \n",
    "        \tF_He = 1+0.24*((sigma_He/sigma_0)-1)\n",
    "        \tf_He = 0.24 \t\n",
    "\t\t\tR_gamma = (4/3)*(rho_gamma/rho_b)*a*n_e*sigma_T\n",
    "\t\t\tRprime_x = R_x*(1+(3/(m_x+4*m_H))*(((1-f_He)/F_He)-1))\n",
    "\t\t\t\n",
    "\t\t\treturn -2*H*Tb+\\\n",
    "\t\t\t\t\t((2*mu_b)/(m_x+m_H))*Rprime_x*(Tx-Tb)*(rho_x/rho_b)+\\\n",
    "\t\t\t\t\t((2*mu_b)/m_e)*R_gamma*(Tgamma-Tb)\n",
    "       \n",
    "\t\t# DM temperature evolution\t\t\n",
    "\t\tdef dotTx(H, Tx, m_x, m_H, Tb):\n",
    "\t\t\t# Thermalization\n",
    "\t\t\tF_He = 1+0.24*((sigma_He/sigma_0)-1)\n",
    "        \tf_He = 0.24 \n",
    "\t\t\tRprime_x = R_x*(1+(3/(m_x+4*m_H))*(((1-f_He)/F_He)-1))\t\t\t\n",
    "\n",
    "\t\t\treturn -2*H*Tx+\\\n",
    "\t\t\t((2*m_x)/(m_x+m_H))*Rprime_x*(Tb-Tx)\n",
    "\n",
    "    # MUNOZ EVOLUTIONS:\n",
    "        # Munoz paper - https://arxiv.org/pdf/1708.08923.pdf\n",
    "        # For variables - https://arxiv.org/pdf/astro-ph/9506072.pdf\n",
    "\n",
    "        # Baryonic temperature evolution\n",
    "        def dotTb(H,Tb,T_gamma,Tx,dotQ_ph):\n",
    "\t\t\t# Thermalizations\n",
    "\t\t   \tgamma_c = (8*mu*rho_Gamma*n_e*sigma_T)/(3*m_e*rho_B)  # Compton thermalization\n",
    "\t\t\tgamma_xb = ((rho_x*mu_b*sigma_n)/((m_x+m_b)**2))*(((Tb/m_b)+(Tx/m_x))**((n+1)/2))*\\\t# Baryonic thermalization\n",
    "\t\t\t\t\t\t((2**((5+n)/2)*gamma(3+(n/2)))/math.sqrt(math.pi))\n",
    "           dotQ_ph = # Photoheating term - can be obtained from CUBA code as per Munoz paper\n",
    "\n",
    "           return (-2*H*Tb+\n",
    "                    gamma_c*(T_gamma-Tb)) +\\\n",
    "                    ((2/3)*gamma_xb*(Tx - Tb)) +\\\n",
    "                    +((2/3)*dotQ_ph)\n",
    "\n",
    "        # DM temperature evolution\n",
    "        def dotTx(H,Tx,Tb):\n",
    "\t\t\t# Thermalizations\n",
    "\t\t\tgamma_xb = # ??\n",
    "\n",
    "           return (-2*H*Tx) +\\\n",
    "                   ((2/3)*gamma_xb*(Tb-Tx))\n",
    "    ##############################################################################################################################\n",
    "\n"
   ]
  }
 ],
 "metadata": {
  "kernelspec": {
   "display_name": "Python 3",
   "language": "python",
   "name": "python3"
  },
  "language_info": {
   "codemirror_mode": {
    "name": "ipython",
    "version": 3
   },
   "file_extension": ".py",
   "mimetype": "text/x-python",
   "name": "python",
   "nbconvert_exporter": "python",
   "pygments_lexer": "ipython3",
   "version": "3.7.6"
  }
 },
 "nbformat": 4,
 "nbformat_minor": 2
}
