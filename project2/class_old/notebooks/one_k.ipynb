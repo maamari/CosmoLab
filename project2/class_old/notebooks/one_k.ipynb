{
 "cells": [
  {
   "cell_type": "code",
   "execution_count": 13,
   "metadata": {},
   "outputs": [],
   "source": "# import necessary modules\n# uncomment to get plots displayed in notebook\n%matplotlib inline\nimport matplotlib\nimport matplotlib.pyplot as plt\nimport numpy as np\nfrom classy import Class\nfrom scipy.optimize import fsolve\nfrom scipy.interpolate import interp1d\nimport math"
  },
  {
   "cell_type": "code",
   "execution_count": 31,
   "metadata": {},
   "outputs": [],
   "source": "k = 0.1  # 1/Mpc\ncommon_settings = {# we need to set the output field to something although\n                   # the really releveant outpout here will be set with 'k_output_values'\n                   'output':'dTk',\n                   # value of k we want to polot in [1/Mpc]\n                   'k_output_values':k,\n                   # LambdaCDM parameters\n                   'h':0.67556,\n                   'omega_b':0.022032,\n                   'omega_cdm':0.12038,\n                   'A_s':2.215e-9,\n                   'n_s':0.9619,\n                   'tau_reio':0.0925,\n                   # Take fixed value for primordial Helium (instead of automatic BBN adjustment)\n                   'YHe':0.246,\n                   # other options and settings\n                   'compute damping scale':'yes', # needed to output the time of damping scale crossing\n                   'gauge':'newtonian'}  "
  },
  {
   "cell_type": "code",
   "execution_count": 24,
   "metadata": {},
   "outputs": [],
   "source": "M = Class()\nM.set(common_settings)\nM.compute()"
  },
  {
   "cell_type": "code",
   "execution_count": 30,
   "metadata": {},
   "outputs": [
    {
     "data": {
      "text/plain": "{'scalar': [{'a': array([5.03431795e-09, 5.03431889e-09, 5.03431983e-09, ...,\n          8.64538449e-01, 9.85093569e-01, 1.00000000e+00]),\n   'delta_b': array([-9.02419154e-01, -9.02419155e-01, -9.02419156e-01, ...,\n          -9.74671704e+04, -1.05074167e+05, -1.05915542e+05]),\n   'delta_cdm': array([-9.02419154e-01, -9.02419155e-01, -9.02419156e-01, ...,\n          -9.88170489e+04, -1.06485014e+05, -1.07332924e+05]),\n   'delta_g': array([-1.20322554e+00, -1.20322554e+00, -1.20322554e+00, ...,\n          -1.20824167e-05, -1.14214077e-05, -1.13402011e-05]),\n   'delta_ur': array([-1.20322554e+00, -1.20322554e+00, -1.20322554e+00, ...,\n          -1.20488995e-05, -1.13957267e-05, -1.13153168e-05]),\n   'phi': array([6.99439075e-01, 6.99439074e-01, 6.99439074e-01, ...,\n          3.01222488e-06, 2.84893167e-06, 2.82882921e-06]),\n   'pol0_g': array([3.18782402e-11, 3.18782581e-11, 3.18782759e-11, ...,\n          0.00000000e+00, 0.00000000e+00, 0.00000000e+00]),\n   'pol1_g': array([1.08785960e-20, 1.08786062e-20, 1.08786164e-20, ...,\n          0.00000000e+00, 0.00000000e+00, 0.00000000e+00]),\n   'pol2_g': array([6.37564804e-12, 6.37565161e-12, 6.37565519e-12, ...,\n          0.00000000e+00, 0.00000000e+00, 0.00000000e+00]),\n   'psi': array([6.01120142e-01, 6.01120142e-01, 6.01120142e-01, ...,\n          3.01222488e-06, 2.84893167e-06, 2.82882921e-06]),\n   'shear_g': array([1.27512961e-11, 1.27513032e-11, 1.27513104e-11, ...,\n          0.00000000e+00, 0.00000000e+00, 0.00000000e+00]),\n   'shear_ur': array([0.00019637, 0.00019637, 0.00019637, ..., 0.        , 0.        ,\n          0.        ]),\n   'tau [Mpc]': array([2.33334377e-03, 2.33334420e-03, 2.33334464e-03, ...,\n          1.34958599e+04, 1.40981337e+04, 1.41650454e+04]),\n   'theta_b': array([ 0.63055019,  0.6305503 ,  0.63055042, ..., 12.64925802,\n          12.58330977, 12.56472273]),\n   'theta_cdm': array([ 0.63083602,  0.63083614,  0.63083626, ..., 12.75346621,\n          12.68135871, 12.66200822]),\n   'theta_g': array([ 6.30550186e-01,  6.30550304e-01,  6.30550421e-01, ...,\n          -1.48607228e-09, -1.79331534e-09, -1.82961428e-09]),\n   'theta_ur': array([ 6.30412727e-01,  6.30412845e-01,  6.30412963e-01, ...,\n          -1.47553645e-09, -1.78430507e-09, -1.82076358e-09])}]}"
     },
     "execution_count": 30,
     "metadata": {},
     "output_type": "execute_result"
    }
   ],
   "source": "M.get_perturbations()"
  },
  {
   "cell_type": "code",
   "execution_count": null,
   "metadata": {},
   "outputs": [],
   "source": ""
  }
 ],
 "metadata": {
  "kernelspec": {
   "display_name": "Python 2",
   "language": "python",
   "name": "python2"
  },
  "language_info": {
   "codemirror_mode": {
    "name": "ipython",
    "version": 2
   },
   "file_extension": ".py",
   "mimetype": "text/x-python",
   "name": "python",
   "nbconvert_exporter": "python",
   "pygments_lexer": "ipython2",
   "version": "2.7.15+"
  }
 },
 "nbformat": 4,
 "nbformat_minor": 1
}
