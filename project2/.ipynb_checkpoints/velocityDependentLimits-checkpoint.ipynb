{
 "cells": [
  {
   "cell_type": "markdown",
   "metadata": {},
   "source": "# Organization of notebook"
  },
  {
   "cell_type": "markdown",
   "metadata": {},
   "source": "1. Imports<br>\n2. Semi-analytic ($M_{crit}$ business) _functions only_<br>\n    a. all functions -- serve to determine \"analytic\" limits<br>\n3. Numerical (CLASS-based) _functions only_<br>\n    a. make_inis -- makes ini files for given mass, power, etc.<br>\n    b. calculate_kcuts, fit_fun, sigma0 limits -- used for getting numerical upper lims on sigma0<br>\n    c. findLocalMins, findLocalMaxs -- give peaks/troughs of Tk<br>\n    d. tk -- gives transfer function<br>\n    e. peaks -- gets locations/amplitudes peaks of oscillatory business<br>\n4. Analysis (limits)<br>\n    a. Semi-analytic limits<br>\n    b. Sanity check on analytics using CLASS<br>\n    c. Limits via exclusion curves<br>\n    d. Semi-analytic, conservative, CMB limits<br>\n    e. Tables of limit values for each n<br>\n5. Analysis (tk/DAOs)<br>\n    f. Tk for single sigma<br>\n    g. Tks for full sigma range<br>\n    h. First peak amplitude<br>\n    i. Peaks for same cross section<br>\n    j. First, second, third peaks<br>\n    k. Ratio of first to second peaks<br>"
  },
  {
   "cell_type": "markdown",
   "metadata": {},
   "source": "# Relevant imports"
  },
  {
   "cell_type": "code",
   "execution_count": 1,
   "metadata": {},
   "outputs": [],
   "source": "%matplotlib inline\n%config InlineBackend.figure_format = 'retina'\n\nfrom scipy.signal import argrelextrema\nimport math\nimport numpy as np\nimport matplotlib\nfrom matplotlib.colors import LinearSegmentedColormap\nimport matplotlib.pyplot as plt\nimport sys\nimport os,glob\nimport yaml\nfrom chainconsumer import ChainConsumer\nfrom scipy.special import gamma\nfrom scipy.optimize import fsolve\nfrom scipy.interpolate import interp1d  \nimport pandas as pd\nimport matplotlib.ticker as ticker\nfrom scipy.optimize import curve_fit\n\n%load_ext autoreload\n%autoreload 2\n%config InlineBackend.figure_format = 'retina'\nplt.rcParams['font.size']=13\nplt.rcParams['font.family']='stix'\nplt.rcParams['text.usetex']=True\nplt.rcParams['figure.figsize']= (6.5,4)\nplt.rcParams['figure.dpi']=150"
  },
  {
   "cell_type": "markdown",
   "metadata": {},
   "source": "---"
  },
  {
   "cell_type": "markdown",
   "metadata": {},
   "source": "---"
  },
  {
   "cell_type": "markdown",
   "metadata": {},
   "source": "---"
  },
  {
   "cell_type": "code",
   "execution_count": 9,
   "metadata": {},
   "outputs": [],
   "source": "class VDS0():  \n\n############################# INITIALIZATION #############################\n    \n    def __init__(self, h = 0.6727, Omega_m = 0.26495, Omega_b = 0.05, Omega_rad = 10e-5, p_crit = 4.755e-6,\n                 rho_crit = 4.755e-6, T0 = 2.7255, kb = 8.617333262145e-5, m_p = 0.93827231, nu = 1.12,\n                 Y_p = 0.75, cc = 3e5, Mpc2cm = 3.086e24, masses = np.array([1e-4,1e-3,1e-2,1e-1,1.,10.]), \n                 sigma_array = np.logspace(-10,-30,200)):\n        \n        self.h = h\n        self.H0 = 100*h\n        self.Omega_m = Omega_m\n        self.Omega_b = Omega_b\n        self.Omega_rad = Omega_rad\n        self.Y_p = Y_p\n        self.m_p = m_p\n        self.nu = nu\n        self.rho_crit = 1.256*10**11*Omega_m\n        self.rho_b = Omega_b*p_crit\n        self.T_0 = kb*T0*1e-9\n        self.Rx_conerverionFactor = cc*Mpc2cm\n        \n        self.masses = masses\n        self.sigma_array = sigma_array\n            \n############################# SEMI-ANALYTIC FUNCTIONS #############################\n    \n    def N_0(self,n):\n        return pow(2,(5.+n)/2.)*gamma(3.+n/2.)/(3.*np.sqrt(np.pi))\n\n    def mhm2khm(self,Mhm):\n        return np.pi/self.h*(((4.*np.pi*self.rho_crit)/(3*Mhm))**(1./3.))\n    \n    def Rx_noZ(self,sigma_0, m_x, n):\n        return N_0(n)*self.Y_p*self.rho_b*self.Rx_conerverionFactor*(sigma_0/(m_x+self.m_p))*(pow((self.T_0/m_x)+(self.T_0/self.m_p),((1.+n)/2.)))\n    \n    def z_th(self,sigma_0,m_x,n):\n        return ((self.H0*np.sqrt(self.Omega_rad)*(m_x+self.m_p))/(Rx_noZ(sigma_0,m_x,n)*m_x))**(2./(n+3.))\n\n    def z_kin(self,sigma_0,m_x,n):\n        return fsolve(lambda z: z * ((self.T_0*z**2)/(z_th(sigma_0,m_x,n)*m_x) + (self.T_0*z_th(sigma_0,m_x,n))/self.m_p)**((n+1.)/2.) - (self.H0*np.sqrt(self.Omega_rad)/(N_0(n)*self.Y_p*self.rho_b*self.Rx_conerverionFactor))*(m_x+self.m_p)/sigma_0,z_th(sigma_0,m_x,n)/2.)    \n\n    def sigma2k(self,sigma_0,m_x,n):\n        return 2.*(self.H0*np.sqrt(self.Omega_rad)*z_kin(sigma_0,m_x,n))*3.33e-6\n\n    def sigma2k2(self,sigma_0,m_x,n):\n        return (self.H0*np.sqrt(self.Omega_rad)*z_th(sigma_0,m_x,n))*3.33e-6\n    \n    def Rx_kin(self,sigma_0, m_x, n):\n        return N_0(n)*self.Y_p*self.rho_b*self.Rx_conerverionFactor*(sigma_0/(m_x+self.m_p))*(pow((self.T_0*pow(z_kin(sigma_0,m_x,n),2))/(m_x*z_th(sigma_0,m_x,n))+((self.T_0*z_th(sigma_0,m_x,n))/self.m_p),((1.+n)/2.)))\n\n    def Rx_th(self,sigma_0, m_x, n):\n        return N_0(n)*self.Y_p*self.rho_b*self.Rx_conerverionFactor*(sigma_0/(m_x+self.m_p))*(pow(((self.T_0*(1+z_th(sigma_0,m_x,n)))/(m_x))+((self.T_0*(1+z_th(sigma_0,m_x,n)))/self.m_p),((1.+n)/2.)))\n    \n    def sig(self,klimit,n):\n        sigma = []\n        for i in range(len(masses)):\n            sigma.append(sigma_array[np.argmin(np.abs(sigma2k(sigma_array,masses[i],n)-h*klimit))])\n        return np.array(sigma)\n\n    def sigma_vs_mx(self,klimit):\n        return hv.Curve((masses, sig(klimit)))\n    \n############################# INI GENERATION #############################\n\n    def make_inis(self,ini_base_file='class/inis/dmeff_base.ini',base_inis_path='class/inis/',class_runner_path = 'class/',npow=0,\n                  masses=np.array([1e-4,1e-3,1e-2,1e-1,1.,10.]),sigmas=np.logspace(-20,-30,100),output_path='pk_output',\n                  sh_file='class/run_classes.sh'):\n    \n        fin =  open(ini_base_file, 'r')\n        base_content = fin.read()\n        fin.close()\n        fout_sh = open(class_runner_path+'run_classes.sh', 'w')\n\n        for m in masses:\n            for sigma in sigmas:\n                filename = 'n{}_m{}_s{}.ini'.format(npow,m,sigma)\n                fout_sh.write('./class ' + 'inis/{}\\n'.format(filename))\n                fout = open(base_inis_path + filename, 'w')\n                fout.write(base_content)\n                fout.write('\\n')\n                npow_line = 'npow_dmeff = {}\\n'.format(npow)\n                fout.write(npow_line)\n                m_line = 'm_dmeff = {}\\n'.format(m)\n                fout.write(m_line)\n                sigma_line = 'sigma_dmeff = {}\\n'.format(sigma)\n                fout.write(sigma_line)\n                if npow<0:\n                    vel_line = 'Vrel_dmeff_rate = 30\\n' #sets to DBK case.\n                    fout.write(vel_line)\n                root_line = 'root = {}/n{}_m{}_s{}_\\n'.format(output_path,npow,m,sigma)\n                fout.write(root_line)\n\n        fout_sh.close()\n\n############################# TK PLOTTING FUNCTIONS #############################\n        \n    def single_tk(self,npow=0,m=0.0001,plotPeaks=False,pltType='none',\n              index=0,sigmas=np.logspace(-20,-30,100),lw=2.5,label='',clr='none'):\n\n        data0 = np.loadtxt('class/pk_output/lcdm_z1_pk.dat')\n        ks = data0[:,0]\n        pk0 = data0[:,1]\n\n        for i,sigma in enumerate(sigmas):\n            # Index of interest\n            if i!=index:\n                continue\n            sig=sigma\n            print sigma\n            # pk data from class for given mass, sigma, power\n            filename = 'class/pk_output/n{}_m{}_s{}_z1_pk.dat'.format(npow,m,sigma)\n            np.loadtxt(filename)\n            data = np.loadtxt(filename)\n            pk = data[:,1]\n\n            if pltType=='cons':\n                clr = '#D81B60'\n                lbl = \"$\\sigma_{0,c}=$\"+str(' {:.1e}'.format(float(sigma)))+\" cm$^2$\"\n            elif pltType=='analytic':\n                clr = '#63acbe'\n                lbl = \"$\\sigma_{0,a}=$\"+str(' {:.1e}'.format(float(sigma)))+\" cm$^2$\"\n            else:\n                clr = (math.sqrt((i+1.))/10,1-math.sqrt((i+1.))/10,1-math.sqrt((i+1.))/10)\n                lbl = \"$\\sigma_0=$\"+str(' {:.1e}'.format(float(sigma)))+\" cm$^2$\"\n            plt.plot(ks,(pk)/pk0,linewidth=lw,linestyle='-',color=clr,label=lbl)\n\n        return (pk)/pk0,ks,sig\n    \n    def all_tk(self,npow=0,m=0.0001,sigmas=np.logspace(-20,-30,100),\n               z='z1',colorbar=False,pk_root='class/pk_output/',\n               filename=None,label='',lw=0.3):\n    \n        data0 = np.loadtxt('class/pk_output/lcdm_z1_pk.dat')\n        ks = data0[:,0]\n        pk0 = data0[:,1]\n\n        colors = [(math.sqrt((90.+1.))/10,1-math.sqrt((90.+1.))/10,1-math.sqrt((90.+1.))/10),(math.sqrt((1.))/10,1-math.sqrt((1.))/10,1-math.sqrt((1.))/10)]  # R -> G -> B\n        n_bins = [100]  # Discretizes the interpolation into bins\n        cm = LinearSegmentedColormap.from_list('cm', colors, N=100)\n\n        for i,sigma in enumerate(sigmas):\n            try:\n                # colors/labels for peak plot\n                lbl = \"$\\sigma_0=$\"+str('{:.1e}'.format(float(sigma)))+r\"$\\textrm{ cm}^2$\"\n                if npow==1: c='y'\n                if npow==2: c='r'\n                if npow==3: c='b'\n                if npow==4: c='g'\n                if npow==5: c='k'\n                if npow==6: c='m'\n                if npow==8: c='olive'                    \n                if npow==10: c='c'\n                if colorbar: c = (math.sqrt((i+1.))/10,1-math.sqrt((i+1.))/10,1-math.sqrt((i+1.))/10)\n\n                # pk data from class for given mass, sigma, power\n                filename = 'class/pk_output/n{}_m{}_s{}_z1_pk.dat'.format(npow,m,sigma)            \n                data = np.loadtxt(filename)\n                pk = data[:,1]\n\n                plt.semilogx(ks,pk/pk0,linewidth=lw,linestyle='-',color=c,label=lbl,alpha=0.5) \n                sc = plt.scatter(ks,(pk)/pk0, c=np.logspace(-20,-30,246), cmap=cm,s=0.001)\n            except: continue\n\n        if colorbar:          \n            tick_locs = [1e-30,1e-20]\n            tick_labels = [\"$\\sigma_0 = 10^{-30}$ cm$^2$\",\"$\\sigma_0 = 10^{-20}$ cm$^2$\"]\n            cb = plt.colorbar(sc, orientation=\"vertical\")\n            cb.locator = matplotlib.ticker.FixedLocator(tick_locs)\n            cb.formatter = matplotlib.ticker.FixedFormatter(tick_labels)\n            cb.update_ticks()\n            cb.ax.tick_params(labelsize=40,length=15,width=3,color='w')\n            cb.ax.locator_params(nbins=2)\n            \n    def transfer(self,k,mwdm):\n        lambda_fs = (0.049*(mwdm**(-1.11))*((self.Omega_m/0.25)**(0.11))*((self.h/0.7)**1.22))\n        alpha = lambda_fs\n        transfer = (1+(alpha*k)**(2*self.nu))**(-5./self.nu)\n        return transfer"
  },
  {
   "cell_type": "code",
   "execution_count": 10,
   "metadata": {},
   "outputs": [],
   "source": "vds0 = VDS0()"
  },
  {
   "cell_type": "markdown",
   "metadata": {},
   "source": "# Semi-analytical functions"
  },
  {
   "cell_type": "markdown",
   "metadata": {},
   "source": "#### Various constants"
  },
  {
   "cell_type": "markdown",
   "metadata": {},
   "source": "http://pdg.lbl.gov/2014/reviews/rpp2014-rev-astrophysical-constants.pdf\n\nhttps://arxiv.org/pdf/1904.10000\n\nhttps://arxiv.org/pdf/1502.01589.pdf"
  },
  {
   "cell_type": "markdown",
   "metadata": {},
   "source": "#### Relevant functions"
  },
  {
   "cell_type": "markdown",
   "metadata": {},
   "source": "https://arxiv.org/pdf/1801.08609.pdf\n\n$ N_0 =  2^{(5+n)/2}\\Gamma(3+n/2)/(3\\sqrt{\\pi})$"
  },
  {
   "cell_type": "markdown",
   "metadata": {},
   "source": "http://sro.sussex.ac.uk/id/eprint/46339/1/MNRAS-2012-Schneider-684-98.pdf\n\n$M_{hm} = \\frac{4\\pi\\bar{\\rho}}{3}\\big(\\frac{\\lambda_{hm}}{2}\\big)^3$\n\n$\\qquad = \\frac{4\\pi\\bar{\\rho}}{3}\\big(\\frac{\\pi}{hk_{hm}}\\big)^3$\n\n$\\therefore k_{hm} = \\frac{\\pi}{h}\\big(\\frac{4\\pi\\bar{\\rho}}{3M_{hm}}\\big)^{1/3}$"
  },
  {
   "cell_type": "markdown",
   "metadata": {},
   "source": "https://arxiv.org/pdf/1808.00001.pdf\n\n$Rx_noZ = \\frac{N_0a\\rho_bY_p\\sigma_0}{m_{\\chi}+m_p}\\Big(\\frac{T_0}{m_p}+\\frac{T_{0}}{m_{\\chi}}\\Big)^{\\frac{1+n}{2}}$\n"
  },
  {
   "cell_type": "markdown",
   "metadata": {},
   "source": "https://arxiv.org/pdf/1904.10000\n\n$aH = R_{\\chi}(m_{\\chi}/(m_{\\chi}+m_p))$\n\nNote that $aH \\sim z$ and $R_{\\chi} \\sim z^{n+5/2}$ such that\n\n$zH_0\\sqrt{\\Omega_{rad}} = R_{\\chi}(m_{\\chi}/(m_{\\chi}+m_p))z^{n+5/2}$\n\n$\\therefore z = ((m_{\\chi}+m_p)H_0\\sqrt{\\Omega_{rad}}/R_{\\chi}m_{\\chi})^{2/n+3}$"
  },
  {
   "cell_type": "markdown",
   "metadata": {},
   "source": "https://arxiv.org/pdf/1904.10000\n\n$aH = R_{\\chi} = \\frac{N_0a\\rho_bY_p\\sigma_0}{m_{\\chi}+m_p}\\Big(\\frac{T_b}{m_p}+\\frac{T_{\\chi}}{m_{\\chi}}\\Big)^{\\frac{1+n}{2}}$\n\nNote that $aH \\sim z$, $a\\bar{\\rho} \\sim z^2$, $T_b \\sim z$ and $T_{\\chi} \\sim z^2/z_{th}$, such that\n\n$\\frac{H_0\\sqrt{\\Omega_{rad}}(m_{\\chi}+m_p)}{N_0Y_p\\rho_b\\sigma_0} = z^2/z \\big(\\frac{T_0z}{m_p}+\\frac{T_0z^2}{z_{th}m_{\\chi}}\\big)^{n+1/2}$\n\n$0 = z \\big(\\frac{T_0z}{m_p}+\\frac{T_0z^2}{z_{th}m_{\\chi}}\\big)^{n+1/2} - \\frac{H_0\\sqrt{\\Omega_{rad}}(m_{\\chi}+m_p)}{N_0Y_p\\rho_b\\sigma_0}$\n\nSolving the above for $z$ yields $z_{kin}$"
  },
  {
   "cell_type": "markdown",
   "metadata": {},
   "source": "https://arxiv.org/pdf/1904.10000\n\n$k_{crit} = aH = H_0\\sqrt{\\Omega_{rad}}z_{kin}^2/z_{kin} = H_0\\sqrt{\\Omega_{rad}}z_{kin}$"
  },
  {
   "cell_type": "markdown",
   "metadata": {},
   "source": "https://arxiv.org/pdf/1808.00001.pdf\n\n$R_{x,kin} = \\frac{N_0a\\rho_bY_p\\sigma_0}{m_{\\chi}+m_p}\\Big(\\frac{T_0z_{th}}{m_p}+\\frac{T_0z^2}{z_{th}m_{\\chi}}\\Big)^{\\frac{1+n}{2}}$"
  },
  {
   "cell_type": "markdown",
   "metadata": {},
   "source": "https://arxiv.org/pdf/1808.00001.pdf\n\n$R_{x,th} = \\frac{N_0a\\rho_bY_p\\sigma_0}{m_{\\chi}+m_p}\\Big(\\frac{T_0(1+z_{th})}{m_p}+\\frac{T_0(1+z_{th})}{m_{\\chi}}\\Big)^{\\frac{1+n}{2}}$"
  },
  {
   "cell_type": "markdown",
   "metadata": {},
   "source": "---"
  },
  {
   "cell_type": "markdown",
   "metadata": {},
   "source": "---"
  },
  {
   "cell_type": "markdown",
   "metadata": {},
   "source": "---"
  },
  {
   "cell_type": "markdown",
   "metadata": {},
   "source": "# Numerical functions"
  },
  {
   "cell_type": "code",
   "execution_count": 11,
   "metadata": {},
   "outputs": [],
   "source": "masses_test = [1e-4,1e-3,1e-2,1e-1,1.,10.]\nsmallSigs = np.logspace(-20,-30,100)\nsmallSigs2 = np.logspace(-17,-30,100)\ntestSig = np.array([1e-27])\nlargeSigs = np.logspace(-10,-30,100)"
  },
  {
   "cell_type": "code",
   "execution_count": 12,
   "metadata": {},
   "outputs": [],
   "source": "vds0.make_inis(npow=6,masses=[1],sigmas=np.logspace(-5,-30,100))"
  },
  {
   "cell_type": "markdown",
   "metadata": {},
   "source": "---"
  },
  {
   "cell_type": "markdown",
   "metadata": {},
   "source": "---"
  },
  {
   "cell_type": "markdown",
   "metadata": {},
   "source": "---"
  },
  {
   "cell_type": "markdown",
   "metadata": {},
   "source": "# Plots/Analysis (limits)"
  },
  {
   "cell_type": "markdown",
   "metadata": {},
   "source": "#### Semi-analytical limits"
  },
  {
   "cell_type": "markdown",
   "metadata": {},
   "source": "Derivation of upper limits on cross section using analytical formalism presented a little while back"
  },
  {
   "cell_type": "code",
   "execution_count": null,
   "metadata": {},
   "outputs": [],
   "source": ""
  },
  {
   "cell_type": "markdown",
   "metadata": {
    "collapsed": true
   },
   "source": "klim = vds0.mhm2khm(3*10**8)\n# klim=0.1\nplt.figure(figsize=(15,10))\n\nplt.loglog(masses, vds0.sig(klim,6.), label=\"n=6\",linewidth=5,linestyle=':')\nplt.loglog(masses, vds0.sig(klim,4.), label=\"n=4\",linewidth=5,linestyle='-.')\nplt.loglog(masses, vds0.sig(klim,2.), label=\"n=2\",linewidth=5,linestyle='--')\nplt.loglog(masses, vds0.sig(klim,0.), label=\"n=0\",linewidth=5)\n\n# plt.title(r\"Analytical\", fontsize=20)\nplt.ylabel(r\"Cross section $\\sigma_0$ [$cm^2$]\", fontsize=30)\nplt.xlabel(r\"Dark matter mass $m_x$ [GeV]\", fontsize=30)\nplt.legend(fontsize=25)\nplt.tick_params(labelsize=15)\nplt.ylim(1e-30,1e-11)\n\n# plt.savefig(\"analytical.png\")"
  },
  {
   "cell_type": "markdown",
   "metadata": {},
   "source": "#### Limits by exclusion curve"
  },
  {
   "cell_type": "code",
   "execution_count": null,
   "metadata": {},
   "outputs": [],
   "source": "sigs2cons = [3.5e-26,1.5e-23,9.8e-22]\nsigs4cons = [4.6e-24,8.3e-19,1.45e-15]\nsigs6cons = [3.1e-22,9.5e-13,1.6e-9]\n\nsigs0_anal = [vds0.sig(klim,0.)[0],vds0.sig(klim,0.)[2],vds0.sig(klim,0.)[4]]\nsigs2_anal = [vds0.sig(klim,2.)[0],vds0.sig(klim,2.)[2],vds0.sig(klim,2.)[4]]\nsigs4_anal = [vds0.sig(klim,4.)[0],vds0.sig(klim,4.)[2],vds0.sig(klim,4.)[4]]\nsigs6_anal = [vds0.sig(klim,6.)[0],vds0.sig(klim,6.)[2],vds0.sig(klim,6.)[4]]\n\nsigs0_eft = [8.8e-27,2.6e-26,1.5e-25,1.4e-23]\nsigs2_eft = [4.2e-23,4.3e-21,5.3e-18,2.2e-15]\nsigs4_eft = [1.6e-20,1.0e-16,4.1e-11,9.3e-09]\nsigs6_eft = [5.0e-04,1.5e+00]\n\nmass = [0.0001,0.01,1]\nmass_eft = [1.5e-5,0.001,1,1000]\nmass_eft6 = [1,1000]"
  },
  {
   "cell_type": "markdown",
   "metadata": {},
   "source": "#### n = 2"
  },
  {
   "cell_type": "code",
   "execution_count": null,
   "metadata": {
    "scrolled": true
   },
   "outputs": [],
   "source": "n2_limits = pd.DataFrame({'Mass (GeV)':mass,\n                          '$\\sigma_0$ super conservative ($cm^2$)':sigs2cons,\n                          '$\\sigma_0$ analytical ($cm^2$)':sigs2_anal})\n# n2_limits.to_csv(\"n2_limits.csv\")\nn2_limits"
  },
  {
   "cell_type": "code",
   "execution_count": null,
   "metadata": {},
   "outputs": [],
   "source": "ks2 = np.logspace(-5,4,1000)\nplt.figure(figsize=(15,10))\n\nplt.semilogx(ks2,vds0.transfer(ks2,3.3)**2,linestyle='-',label=r'$m_{\\rm{WDM}} = 3.3\\ \\rm{keV}$',c='#800080',lw=7)\n\n# tk_idm,ks,sigma0 = vds0.single_tk(npow=2,m=0.0001,pltType='cons',sigmas=smallSigs,index=54,lw=7)\n# tk_idm,ks,sigma0 = vds0.single_tk(npow=2,m=0.0001,pltType='analytic',sigmas=smallSigs,index=68,lw=7)\n# tk_idm,ks,sigma0 = vds0.single_tk(npow=2,m=0.01,pltType='cons',sigmas=smallSigs,index=28,lw=7)\n# tk_idm,ks,sigma0 = vds0.single_tk(npow=2,m=0.01,pltType='analytic',sigmas=smallSigs,index=45,lw=7)\ntk_idm,ks,sigma0 = vds0.single_tk(npow=2,m=1,pltType='cons',sigmas=smallSigs,index=10,lw=7)\ntk_idm,ks,sigma0 = vds0.single_tk(npow=2,m=1,pltType='analytic',sigmas=smallSigs,index=25,lw=7)\n\n# plt.fill_between(np.logspace(-5,4,1000), -10, vds0.transfer(ks2,3.3)**2,np.logspace(-5,4,1000) <=30,color='#ccbe9f',alpha=0.3)\nplt.fill_between(np.logspace(-5,4,1000), -10, vds0.transfer(ks2,3.3)**2,color='#ccbe9f',alpha=0.40)\nplt.fill_between(ks,tk_idm,0,color='#ccbe9f', alpha=0.25)\n\n# plt.text(7.4,0.65,\"Conservative\",rotation=-72,fontsize=30,alpha=0.85)\n# plt.text(21,0.65,\"WDM\",rotation=-64,fontsize=30,alpha=0.85)\n# plt.text(41,0.75,\"Analytic\",rotation=-67,fontsize=30,alpha=0.85)\n\nplt.xscale(\"log\")\nplt.xlim(0.5,66)\nplt.ylim(0.001,1)\nplt.ylabel(r'$P_{\\rm{IDM}}/P_{\\rm{CDM}}$',fontsize=55,labelpad=5)\nplt.xlabel(r'$k$ [$h\\ \\rm{Mpc}^{-1}$]',fontsize=55,labelpad=5)\nplt.tick_params(labelsize=45,length=10,width=2)\nplt.tick_params(which='minor',length=5,width=1.5)\nplt.xticks([1e0,1e1,3e1,6.6e1],[1e0,1e1,3e1,6.6e1])\n# plt.yticks([0.05,0.25,0.5,0.75,1.0])\nplt.legend(fontsize=33,framealpha=0)\nplt.subplots_adjust(bottom=0.17)\n# plt.savefig(\"plots/exclusions/exclusion_n2_m100keV.png\")"
  },
  {
   "cell_type": "markdown",
   "metadata": {},
   "source": "#### n = 4"
  },
  {
   "cell_type": "code",
   "execution_count": null,
   "metadata": {},
   "outputs": [],
   "source": "n4_limits = pd.DataFrame({'Mass (GeV)':mass,'$\\sigma_0$ super conservative ($cm^2$)':sigs4cons,'$\\sigma_0$ analytical ($cm^2$)':sigs4_anal})\n# n4_limits.to_csv(\"n4_limits.csv\")\nn4_limits"
  },
  {
   "cell_type": "code",
   "execution_count": null,
   "metadata": {},
   "outputs": [],
   "source": "plt.figure(figsize=(15,10))\n\nks2 = np.logspace(-5,4,1000)\nplt.semilogx(ks2,vds0.transfer(ks2,3.3)**2,linestyle='-',label=r'$m_{\\rm{WDM}} = 3.3\\ \\rm{keV}$',c='#800080',lw=7)\n\ntk_idm,ks,sigma0 = vds0.single_tk(npow=4,m=1,pltType='cons',sigmas=np.logspace(-10,-30,30),index=7,lw=7)\ntk_idm,ks,sigma0 = vds0.single_tk(npow=4,m=1,pltType='analytic',sigmas=smallSigs2,index=6,lw=7)\n# tk_idm,ks,sigma0 = vds0.single_tk(npow=4,m=0.01,pltType='cons',sigmas=np.logspace(-10,-30,100),index=40,lw=7)\n# tk_idm,ks,sigma0 = vds0.single_tk(npow=4,m=0.01,pltType='analytic',sigmas=smallSigs2,index=35,lw=7)\n# tk_idm,ks,sigma0 = vds0.single_tk(npow=4,m=0.0001,pltType='cons',sigmas=smallSigs,index=33,lw=7)\n# tk_idm,ks,sigma0 = vds0.single_tk(npow=4,m=0.0001,pltType='analytic',sigmas=smallSigs2,index=68,lw=7)\n\n# plt.fill_between(np.logspace(-5,4,1000), -10, vds0.transfer(ks2,3.3)**2,np.logspace(-5,4,1000) <=30,color='#ccbe9f',alpha=0.3)\nplt.fill_between(np.logspace(-5,4,1000), -10, vds0.transfer(ks2,3.3)**2,color='#ccbe9f',alpha=0.40)\nplt.fill_between(ks,tk_idm,0,color='#ccbe9f', alpha=0.25)\n\n# plt.text(7.4,0.65,\"Conservative\",rotation=-72,fontsize=30,alpha=0.85)\n# plt.text(21,0.65,\"WDM\",rotation=-64,fontsize=30,alpha=0.85)\n# plt.text(41,0.75,\"Analytic\",rotation=-67,fontsize=30,alpha=0.85)\n\nplt.xscale(\"log\")\nplt.xlim(0.5,66)\nplt.ylim(0.001,1)\nplt.ylabel(r'$P_{\\rm{IDM}}/P_{\\rm{CDM}}$',fontsize=55,labelpad=5)\nplt.xlabel(r'$k$ [$h\\ \\rm{Mpc}^{-1}$]',fontsize=55,labelpad=5)\nplt.tick_params(labelsize=45,length=10,width=2)\nplt.tick_params(which='minor',length=5,width=1.5)\nplt.xticks([1e0,1e1,3e1,6.6e1],[1e0,1e1,3e1,6.6e1])\n# plt.yticks([0.05,0.25,0.5,0.75,1.0])\nplt.legend(fontsize=33,framealpha=0)\nplt.subplots_adjust(bottom=0.17)\n# plt.savefig(\"plots/exclusions/exclusion_n4_m100keV.png\")"
  },
  {
   "cell_type": "markdown",
   "metadata": {},
   "source": "#### n = 6"
  },
  {
   "cell_type": "code",
   "execution_count": null,
   "metadata": {
    "scrolled": false
   },
   "outputs": [],
   "source": "n6_limits = pd.DataFrame({'Mass (GeV)':mass,'$\\sigma_0$ super conservative ($cm^2$)':sigs6cons,'$\\sigma_0$ analytical ($cm^2$)':sigs6_anal})\n# n4_limits.to_csv(\"n4_limits.csv\")\nn6_limits"
  },
  {
   "cell_type": "code",
   "execution_count": null,
   "metadata": {},
   "outputs": [],
   "source": "plt.figure(figsize=(15,10))\n\nks2 = np.logspace(-5,4,1000)\nplt.semilogx(ks2,vds0.transfer(ks2,3.3)**2,linestyle='-',label=r'$m_{\\rm{WDM}} = 3.3\\ \\rm{keV}$',c='#800080',lw=7)\n\n# tk_idm,ks,sigma0 = vds0.single_tk(npow=6,m=1,pltType='cons',sigmas=np.logspace(-5,-30,100),index=15,lw=7)\n# tk_idm,ks,sigma0 = vds0.single_tk(npow=6,m=1,pltType='analytic',sigmas=largeSigs,index=16,lw=7)\n# tk_idm,ks,sigma0 = vds0.single_tk(npow=6,m=0.01,pltType='cons',sigmas=largeSigs,index=10,lw=7)\n# tk_idm,ks,sigma0 = vds0.single_tk(npow=6,m=0.01,pltType='analytic',sigmas=smallSigs2,index=13,lw=7)\ntk_idm,ks,sigma0 = vds0.single_tk(npow=6,m=0.0001,pltType='cons',sigmas=np.logspace(-20,-30,100),index=5,lw=7)\ntk_idm,ks,sigma0 = vds0.single_tk(npow=6,m=0.0001,pltType='analytic',sigmas=smallSigs,index=47,lw=7)\n\n# plt.fill_between(np.logspace(-5,4,1000), -10, vds0.transfer(ks2,3.3)**2,np.logspace(-5,4,1000) <=30,color='#ccbe9f',alpha=0.3)\nplt.fill_between(np.logspace(-5,4,1000), -10, vds0.transfer(ks2,3.3)**2,color='#ccbe9f',alpha=0.40)\nplt.fill_between(ks,tk_idm,0,color='#ccbe9f', alpha=0.25)\n\n# plt.text(7.4,0.65,\"Conservative\",rotation=-72,fontsize=30,alpha=0.85)\n# plt.text(21,0.65,\"WDM\",rotation=-64,fontsize=30,alpha=0.85)\n# plt.text(41,0.75,\"Analytic\",rotation=-67,fontsize=30,alpha=0.85)\n\nplt.xscale(\"log\")\nplt.xlim(0.5,66)\nplt.ylim(0.001,1)\nplt.ylabel(r'$P_{\\rm{IDM}}/P_{\\rm{CDM}}$',fontsize=55,labelpad=5)\nplt.xlabel(r'$k$ [$h\\ \\rm{Mpc}^{-1}$]',fontsize=55,labelpad=5)\nplt.tick_params(labelsize=45,length=10,width=2)\nplt.tick_params(which='minor',length=5,width=1.5)\nplt.xticks([1e0,1e1,3e1,6.6e1],[1e0,1e1,3e1,6.6e1])\n# plt.yticks([0.05,0.25,0.5,0.75,1.0])\nplt.legend(fontsize=33,framealpha=0)\nplt.subplots_adjust(bottom=0.17)\n# plt.savefig(\"plots/exclusions/exclusion_n4_m100keV.png\")"
  },
  {
   "cell_type": "code",
   "execution_count": null,
   "metadata": {},
   "outputs": [],
   "source": "plt.figure(figsize=(18,10))\n\n# plt.loglog(mass,sigs0_prog,label=\"n=0, progressive\",linestyle='-',color='lightsteelblue',lw=3)\n# plt.loglog(mass_eft,sigs0_eft,label=\"n=0, eft\",linestyle='-',color='khaki',lw=3)\n\n# plt.loglog(mass,sigs2_prog,label=\"n=2, Progressive\",linestyle='-',color='lightsteelblue',lw=3)\n# plt.text(1.6e-4,7e-24,\"Excluded by\\n Milky Way Satellites\",fontsize=30,alpha=0.9)\nplt.loglog(mass_eft,sigs2_eft,label=\"CMB Limit\",linestyle='-',color='black',lw=7)\nplt.loglog(mass,sigs2cons,label=\"Conservative Limit\",linestyle='-',color='#D81B60',lw=7)\nplt.loglog(mass, sigs2_anal, label=\"Analytic Limit\",lw=7,linestyle='-',color='#63acbe')\nplt.fill_between(mass, sigs2_anal, 1, color='#ccbe9f', alpha=0.25)\nplt.fill_between(mass, sigs2cons, 1, color='#ccbe9f', alpha=0.4)\nplt.text(1.4e-4,1e-30,\"$n=2$\",fontsize=40)\nplt.yticks([1e-30,1e-27,1e-24,1e-21,1e-18],[\"$10^{-30}$\",\"$10^{-27}$\",\"$10^{-24}$\",\"$10^{-21}$\",\"$10^{-18}$\"])\nplt.ylim(1e-31,1e-17)\n\n# plt.loglog(mass,sigs4_prog,label=\"n=4, Progressive\",linestyle='-.',color='lightsteelblue',lw=3)\n# plt.text(1.6e-4,1e-14,\"Excluded by\\n Milky Way Satellites\",fontsize=30,alpha=0.9)\n# plt.loglog(mass_eft,sigs4_eft,label=\"CMB Limit\",linestyle='-',color='black',lw=7)\n# plt.loglog(mass,sigs4cons,label=\"Conservative Limit\",linestyle='-',color='#D81B60',lw=7)\n# plt.loglog(mass, sigs4_anal, label=\"Analytic Limit\",lw=7,linestyle='-',color='#63acbe')\n# plt.fill_between(mass, sigs4_anal, 1, color='#ccbe9f', alpha=0.25)\n# plt.fill_between(mass, sigs4cons, 1, color='#ccbe9f', alpha=0.4)\n# plt.text(1.4e-4,1e-29,\"$n=4$\",fontsize=40)\n# plt.yticks([1e-29,1e-26,1e-23,1e-20,1e-17],[\"$10^{-29}$\",\"$10^{-26}$\",\"$10^{-23}$\",\"$10^{-20}$\",\"$10^{-17}$\"])\n# plt.ylim(1e-31,1e-10)\n\n# plt.loglog(mass,sigs6_prog,label=\"progressive\",linestyle=':',color='lightsteelblue',lw=3)\n# plt.text(1.6e-4,1e-13,\"Excluded by\\n Milky Way Satellites\",fontsize=30,alpha=0.9)\n# plt.loglog(mass_eft6,sigs6_eft,label=\"eft\",linestyle='-',color='black',lw=7)\n# plt.loglog(mass,sigs6cons,label=\"Conservative Limit\",linestyle='-',color='#D81B60',lw=7)\n# plt.loglog(mass, sigs6_anal, label=\"Analytic Limit\",lw=7,linestyle='-',color='#63acbe')\n# plt.fill_between(mass, sigs6_anal, 1, color='#ccbe9f', alpha=0.25)\n# plt.fill_between(mass, sigs6cons, 1, color='#ccbe9f', alpha=0.4)\n# plt.text(1.4e-4,1e-29,\"$n=6$\",fontsize=40)\n# plt.yticks([1e-29,1e-26,1e-23,1e-20,1e-17,1e-14,1e-11,1e-8],[\"$10^{-29}$\",\"$10^{-26}$\",\"$10^{-23}$\",\"$10^{-20}$\",\"$10^{-17}$\",\"$10^{-14}$\",\"$10^{-11}$\",\"$10^{-8}$\"])\n# plt.ylim(1e-31,1e-7)\n\nplt.xlim(1e-4,1)\nplt.ylabel(r\"Cross section $\\sigma_0$ [$cm^2$]\",fontsize=55,labelpad=5)\nplt.xlabel(r\"Dark matter mass $m_x$ [GeV]\",fontsize=55,labelpad=5)\nplt.legend(fontsize=35,loc='lower right',framealpha=0)\nplt.tick_params(labelsize=45,length=10,width=2)\nplt.tick_params(which='minor',length=5,width=1.5)\n\nplt.subplots_adjust(left=0.17,bottom=0.16)\nplt.savefig(\"plots/limits/limits_n2_CAE.png\")\n# plt.savefig(\"plots/limits/limits_n4_CAE.png\")\n# plt.savefig(\"plots/limits/limits_n6_CAE.png\")"
  },
  {
   "cell_type": "markdown",
   "metadata": {},
   "source": "---"
  },
  {
   "cell_type": "markdown",
   "metadata": {},
   "source": "---"
  },
  {
   "cell_type": "markdown",
   "metadata": {},
   "source": "---"
  },
  {
   "cell_type": "markdown",
   "metadata": {},
   "source": "# Plots/Analysis (tk/DAOs)"
  },
  {
   "cell_type": "markdown",
   "metadata": {},
   "source": "#### Transfer function business"
  },
  {
   "cell_type": "code",
   "execution_count": null,
   "metadata": {},
   "outputs": [],
   "source": "plt.figure(figsize=(30,15))    \nplt.xscale('log')\nplt.xlim(1e-1,66)\nplt.ylim(0.005,1)\nplt.ylabel(r\"$P(k)_{IDM}/P(k)_{CDM}$\", fontsize=80,labelpad=45)\nplt.xlabel(r\"k [1/Mpc]\", fontsize=80)\nplt.tick_params(labelsize=70,length=15,width=3)\n\n# tks,ks,sgma = single_tk(colorbar=True,npow=0,label=\"n=0\",sigmas=smallSigs,index=20,lw=3)\ntks,ks,sgma = single_tk(npow=4,label=\"n=2\",sigmas=smallSigs2,index=2,lw=3)\n# tks,ks,sgma = single_tk(colorbar=True,npow=4,label=\"n=4\",sigmas=smallSigs,index=20,lw=3)\n# tks,ks,sgma = single_tk(colorbar=True,npow=6,label=\"n=6\",sigmas=smallSigs,index=20,lw=3)\n\n# plt.axvline(12,lw=10)\n\n# plt.legend(fontsize=58)\n\nplt.subplots_adjust(bottom=0.17)\n# plt.savefig(\"plots/tk/tk_all_n2.png\",dpi=200)"
  },
  {
   "cell_type": "code",
   "execution_count": null,
   "metadata": {},
   "outputs": [],
   "source": "# Constants\nh = 0.6727\nH0 = 67.27\nOmega_m = 0.26495\nOmega_b = 0.05\nOmega_rad = 1e-5\np_crit = 4.755e-6\nrho_crit = 1.256*10**11*Omega_m\nrho_b = Omega_b*p_crit\nT0 = 2.7255\nkb = 8.617333262145e-5\nT_0 = kb*T0*1e-9\nm_p = 0.93827231\nY_p = 0.75\n\n# Factors to satisfy units\nk_crit_conversionFactor=3.33333333e-6\nRx_conerverionFactor=9.258e29\n\n# Mass/sigma arrays\nmasses = np.array([1e-4,1e-3,1e-2,1e-1,1.,10.])\nsigma = np.zeros(len(masses))\nsigma_array = np.logspace(-10,-30,200)"
  },
  {
   "cell_type": "code",
   "execution_count": null,
   "metadata": {},
   "outputs": [],
   "source": "all_tk(npow=1,m=0.0001,sigmas=smallSigs2)\nall_tk(npow=2,m=0.0001,sigmas=smallSigs2)\n# all_tk(npow=3,m=0.0001,sigmas=smallSigs2)\nall_tk(npow=4,m=0.0001,sigmas=smallSigs2)\nall_tk(npow=5,m=0.0001,sigmas=smallSigs2)\nall_tk(npow=6,m=0.0001,sigmas=smallSigs)\nall_tk(npow=8,m=0.0001,sigmas=smallSigs)\nall_tk(npow=10,m=0.0001,sigmas=smallSigs)\n\nplt.xlim(1e-1,66)"
  },
  {
   "cell_type": "code",
   "execution_count": null,
   "metadata": {},
   "outputs": [],
   "source": "plt.figure(figsize=(30,15))    \nplt.xscale('log')\nplt.xlim(1e-1,66)\nplt.ylim(0.005,1)\nplt.ylabel(r\"$P(k)_{IDM}/P(k)_{CDM}$\", fontsize=80,labelpad=45)\nplt.xlabel(r\"k [1/Mpc]\", fontsize=80)\nplt.tick_params(labelsize=70,length=15,width=3)\n\nall_tk(colorbar=True,npow=2,m=0.0001,sigmas=smallSigs2,lw=4)"
  },
  {
   "cell_type": "code",
   "execution_count": null,
   "metadata": {},
   "outputs": [],
   "source": "# k1,tk1,s1 = peaks(npow=1)\nk2,tk2,s2 = peaks(npow=2)\n# k3,tk3,s3 = peaks(npow=3)\nk4,tk4,s4 = peaks(npow=4)\n# k5,tk5,s5 = peaks(npow=5)\nk6,tk6,s6 = peaks(npow=6,sigmas=smallSigs)\nk8,tk8,s8 = peaks(npow=8,sigmas=smallSigs)\n# k10,tk10,s10 = peaks(npow=10,sigmas=smallSigs)"
  },
  {
   "cell_type": "markdown",
   "metadata": {},
   "source": "# FIT ONE"
  },
  {
   "cell_type": "code",
   "execution_count": null,
   "metadata": {},
   "outputs": [],
   "source": "for i in range(len(tk2)):\n    plt.scatter(k2[i][0],tk2[i][0],c='g')\n\nplt.scatter(k2[0][0],tk2[0][0],c='g',label='n=3')\n# plt.xscale('log')\nplt.xlim(1e-1,66)\nplt.ylim(0,1)\nplt.xlabel(\"k\")\nplt.ylabel(\"T(k)\")\n# plt.legend()\nall_tk(npow=3,m=0.0001,sigmas=smallSigs2,lw=0.7)\nplt.text(3e-1,-0.27,\"Plot of all discernible peaks. n=3 used as example.\\n Plotted for $k$. Tk for all sigmas overlaid\")"
  },
  {
   "cell_type": "code",
   "execution_count": null,
   "metadata": {},
   "outputs": [],
   "source": "for i in range(len(tk2)):\n    for j in range(len(tk2[i])):\n        try: plt.scatter(s2[i],tk2[i][j],c='g')\n        except: continue\n\n# plt.scatter(s3[0],tk3[0][0],c='g',label='n=3')\nplt.xscale('log')\nplt.xlim(1e-30,1e-15)\nplt.ylim(0,1)\nplt.xlabel(\"$\\sigma_0$\")\nplt.ylabel(\"T(k)\")\nplt.legend()\n# plt.text(1e-25,-0.27,\"Plot of all discernible peaks. n=3 used as example.\\n Plotted for $sigma_0$.\")"
  },
  {
   "cell_type": "code",
   "execution_count": null,
   "metadata": {},
   "outputs": [],
   "source": "relatives1 = []\nrelatives2 = []\nrelatives3 = []\nrelatives4 = []\nrelatives5 = []\n\nfor i in range(len(tk2)):\n    try: \n#         relatives1.append([tk1[i][0]/tk1[i][1]])\n        relatives2.append([tk2[i][0]/tk2[i][1]])\n#         relatives3.append([tk3[i][0]/tk3[i][1]])\n#         relatives4.append([tk4[i][0]/tk4[i][1]])\n#         relatives5.append([tk5[i][0]/tk5[i][1]])\n    except: continue"
  },
  {
   "cell_type": "code",
   "execution_count": null,
   "metadata": {
    "scrolled": false
   },
   "outputs": [],
   "source": "for i in range(len(relatives2)):\n    try:\n#         plt.scatter(k1[i][0],relatives1[i][0],c='k')\n        plt.scatter(k2[i][0],relatives2[i][0],c='b')\n#         plt.scatter(k3[i][0],relatives3[i][0],c='g')\n#         plt.scatter(k4[i][0],relatives4[i][0],c='r')\n#         plt.scatter(k5[i][0],relatives5[i][0],c='y')\n    except: continue\n\n# plt.scatter(k1[0][0],relatives1[0][0],c='k',label='n1')\n# plt.scatter(k2[0][0],relatives2[0][0],c='b',label='n2')\n# plt.scatter(k3[0][0],relatives3[0][0],c='g',label='n3')\n# plt.scatter(k4[0][0],relatives4[0][0],c='r',label='n4')\n# plt.scatter(k5[0][0],relatives5[0][0],c='y',label='n5')\n# plt.xscale('log')\nplt.xlim(1e-1,1e2)\nplt.ylim(0,10)\nplt.xlabel(\"k\")\nplt.ylabel(\"Peak 1/Peak 2\")\nplt.legend()\nplt.text(3e-1,-2.25,\"First to second peak ratio for n=1-5. Plotted for k.\")"
  },
  {
   "cell_type": "code",
   "execution_count": null,
   "metadata": {},
   "outputs": [],
   "source": "for i in range(len(relatives1)):\n    try:\n        plt.scatter(s1[i],relatives1[i][0],c='k')\n        plt.scatter(s2[i],relatives2[i][0],c='b')\n        plt.scatter(s3[i],relatives3[i][0],c='g')\n        plt.scatter(s4[i],relatives4[i][0],c='r')\n        plt.scatter(s5[i],relatives5[i][0],c='y')\n    except: continue\n\nplt.scatter(s1[0],relatives1[0][0],c='k',label='n1')\nplt.scatter(s2[0],relatives2[0][0],c='b',label='n2')\nplt.scatter(s3[0],relatives3[0][0],c='g',label='n3')\nplt.scatter(s4[0],relatives4[0][0],c='r',label='n4')\nplt.scatter(s5[0],relatives5[0][0],c='y',label='n5')\nplt.xscale('log')\nplt.xlim(1e-26,1e-20)\nplt.ylim(0,10)\nplt.xlabel(\"k\")\nplt.ylabel(\"Peak 1/Peak 2\")\nplt.legend()\n# plt.text(3e-1,-2.25,\"First to second peak ratio for n=1-5. Plotted for k.\")"
  },
  {
   "cell_type": "code",
   "execution_count": null,
   "metadata": {},
   "outputs": [],
   "source": "for i in range(len(k1)):\n    plt.scatter(k1[i][0],tk1[i][0],c='k')\n    plt.scatter(k2[i][0],tk2[i][0],c='b')\n    plt.scatter(k3[i][0],tk3[i][0],c='g')\n    plt.scatter(k4[i][0],tk4[i][0],c='r')\n    plt.scatter(k5[i][0],tk5[i][0],c='y')\n    plt.scatter(k6[i][0],tk6[i][0],c='m')\n    plt.scatter(k10[i][0],tk10[i][0],c='c')\n\nplt.scatter(k1[3][0],tk1[3][0],c='k',label='n1')\nplt.scatter(k2[22][0],tk2[22][0],c='b',label='n2')\nplt.scatter(k3[23][0],tk3[23][0],c='g',label='n3')\nplt.scatter(k4[17][0],tk4[17][0],c='r',label='n4')\nplt.scatter(k5[9][0],tk5[9][0],c='y',label='n5')\nplt.scatter(k6[1][0],tk6[1][0],c='m',label='n6')\nplt.scatter(k10[1][0],tk10[1][0],c='c',label='n10')\nplt.xscale('log')\nplt.xlim(5e-2,1e2)\nplt.ylim(0,1)\nplt.xlabel(\"k\")\nplt.ylabel(\"T(k)\")\nplt.legend()\nplt.text(9e-2,-0.3,\"Plot of first peak amplitude for n=1-6 (black=1 ... magenta=6).\\n Limited by issues with class. Outliers due to localMax function.\\n Fall faster w/ increased n (cyan=10). Fig. 1 in ETHOS?\")"
  },
  {
   "cell_type": "code",
   "execution_count": null,
   "metadata": {},
   "outputs": [],
   "source": "plt.scatter(k1[3][0],tk1[3][0],c='k',label='n1')\nplt.scatter(k2[22][0],tk2[22][0],c='b',label='n2')\nplt.scatter(k3[23][0],tk3[23][0],c='g',label='n3')\nplt.scatter(k4[17][0],tk4[17][0],c='r',label='n4')\nplt.scatter(k5[9][0],tk5[9][0],c='y',label='n5')\nplt.scatter(k6[1][0],tk6[1][0],c='m',label='n6')\nplt.scatter(k8[1][0],tk8[1][0],c='olive',label='n8')\nplt.scatter(k10[1][0],tk10[1][0],c='c',label='n10')\n\nplt.xscale('log')\nplt.xlim(5e-2,1e2)\nplt.ylim(0,1)\nplt.xlabel(\"k\")\nplt.ylabel(\"T(k)\")\nplt.legend()\nplt.text(1.1e-1,-0.3,\"Plot of first peak amplitude for n=1-10 (black=1 ... cyan=10)\\n at similar $\\sigma_0$ (8e-21). Larger ns are further along in\\n evolution. n=10 almost done compared to n=1 just started\")"
  },
  {
   "cell_type": "markdown",
   "metadata": {},
   "source": "---"
  },
  {
   "cell_type": "markdown",
   "metadata": {},
   "source": "---"
  },
  {
   "cell_type": "markdown",
   "metadata": {},
   "source": "---"
  },
  {
   "cell_type": "markdown",
   "metadata": {},
   "source": "$\\Huge{Peak_1 = \\frac{log(k+2.3)}{\\alpha*1.09^{kn/10}}}$"
  },
  {
   "cell_type": "markdown",
   "metadata": {},
   "source": "# Parameter fitting"
  },
  {
   "cell_type": "code",
   "execution_count": null,
   "metadata": {},
   "outputs": [],
   "source": "a2 = 2.35480485e+09\nb2 = 4.23837346e-01\na4 = 4e+07\nb4 = 4.1e-01\nparams2 = [2,1.09,10]\nparams4 = [2.3,4,1.09,5]\nparams6 = [2.3,6,1.09,3.3]\nparams8 = [2.3,8.,1.09,2]"
  },
  {
   "cell_type": "code",
   "execution_count": null,
   "metadata": {},
   "outputs": [],
   "source": "20./8"
  },
  {
   "cell_type": "code",
   "execution_count": null,
   "metadata": {},
   "outputs": [],
   "source": "def A(x,a,b):\n    return a*pow(x,b)"
  },
  {
   "cell_type": "code",
   "execution_count": null,
   "metadata": {},
   "outputs": [],
   "source": "def exponential(x,a,b):\n    return b*np.exp((-a*x))"
  },
  {
   "cell_type": "code",
   "execution_count": null,
   "metadata": {},
   "outputs": [],
   "source": "def murg(k,a,b,c):\n    return (1+(a*k)**b)**c"
  },
  {
   "cell_type": "code",
   "execution_count": null,
   "metadata": {},
   "outputs": [],
   "source": "def logpow(x,a,npow,n,m):\n    aa = (np.log(x)+a)/(m*np.power(n,(x*npow)/10))\n    return (aa)"
  },
  {
   "cell_type": "code",
   "execution_count": null,
   "metadata": {},
   "outputs": [],
   "source": "fit_k2 = [row[0] for row in k2]\nfit_tk2 = [row[0] for row in tk2]\nfit_k4 = np.array([row[0] for row in k4])\nfit_tk4 = np.array([row[0] for row in tk4])\nfit_k6 = [row[0] for row in k6]\nfit_tk6 = [row[0] for row in tk6]\nfit_k8 = [row[0] for row in k8]\nfit_tk8 = [row[0] for row in tk8]"
  },
  {
   "cell_type": "code",
   "execution_count": null,
   "metadata": {},
   "outputs": [],
   "source": "# for i in range(len(tk2)):\n#     plt.scatter(k2[i][0],tk2[i][0],c='r')\n# for i in range(len(tk4)):\n#     plt.scatter(k4[i][0],tk4[i][0],c='b')\n# for i in range(len(tk6)):\n#     plt.scatter(k6[i][0],tk6[i][0],c='y')    \nfor i in range(len(tk8)):\n    plt.scatter(k8[i][0],tk8[i][0],c='g')\n\nplt.xlim(1e-1,66)\nplt.ylim(0,1)\nplt.xlabel(\"k\")\nplt.ylabel(\"T(k)\")\nplt.xscale('log')\n\n# xs = np.logspace(-1, 2, num=50)\n# for i in range(len(xs)):\n#     plt.scatter(xs[i],logpow(np.array(xs[i]),*params2),c='c')\n#     plt.scatter(xs[i],logpow(np.array(xs[i]),*params4),c='c')\n#     plt.scatter(xs[i],logpow(np.array(xs[i]),*params6),c='c')\n#     plt.scatter(xs[i],logpow(np.array(xs[i]),*params8),c='c')\n    \n# for i in range(len(tk2)):\n#     plt.scatter(fit_k2[i],logpow(np.array(fit_k2[i]),*params2),c='r')\n# for i in range(len(tk4)):\n#     plt.scatter(fit_k4[i],logpow(np.array(fit_k4[i]),*params4),c='b')\n# for i in range(len(tk6)):\n#     plt.scatter(fit_k6[i],logpow(np.array(fit_k6[i]),*params6),c='c')\nfor i in range(len(tk8)):\n    plt.scatter(fit_k8[i],logpow(np.array(fit_k8[i]),*params8),c='c')   \n# plt.text(3e-1,-0.3,\"Estimated first peak evolution with k\")"
  },
  {
   "cell_type": "code",
   "execution_count": null,
   "metadata": {},
   "outputs": [],
   "source": "n2_idx1 = (7.924828983539186e-21,7)\nn2_idx5 = (3.1257158496882354e-21,5)\nn2_idx10 = (9.770099572992246e-22,3)\nn2_idx15 = (3.0538555088334124e-22,1.7)\nn2_idx20 = (9.545484566618328e-23,1)\nn2_idx25 = (2.983647240283334e-23,0.6)\nn2_idx30 = (9.32603346883218e-24,0.4)\nn2_idx35 = (2.9150530628251697e-24,0.23)\nn2_idx40 = (9.111627561154867e-25,0.14)\nn2_idx45 = (2.848035868435793e-25,0.09)\nn2_fit_sigma = [i1[0],i2[0],i3[0],i4[0],i10[0],i15[0],n2_idx45[0],n2_idx40[0],n2_idx35[0],n2_idx30[0],n2_idx25[0],n2_idx20[0],n2_idx15[0],n2_idx10[0],n2_idx5[0],n2_idx1[0]]\nn2_fit_factor = [i1[1],i2[1],i3[1],i4[1],i10[1],i15[1],n2_idx45[1],n2_idx40[1],n2_idx35[1],n2_idx30[1],n2_idx25[1],n2_idx20[1],n2_idx15[1],n2_idx10[1],n2_idx5[1],n2_idx1[1]]"
  },
  {
   "cell_type": "code",
   "execution_count": null,
   "metadata": {},
   "outputs": [],
   "source": "n4_idx1 = (7.924828983539186e-21,0.17,1.15)\nn4_idx5 = (3.1257158496882354e-21,1.4,1.1)\nn4_idx10 = (9.770099572992246e-22,0.85,1.1)\nn4_idx15 = (3.0538555088334124e-22,0.5,1.08)\nn4_idx20 = (9.545484566618328e-23,0.30,1.07)\nn4_idx25 = (2.983647240283334e-23,0.16,1.05)\n# n4_idx30 = (9.32603346883218e-24,0.43,1.15)\n# n4_idx35 = (2.9150530628251697e-24,0.27,1.15)\n# n4_idx40 = (9.111627561154867e-25,0.17,1.15)\n# n4_idx45 = (2.848035868435793e-25,0.11,1.15)\nn4_idx50 = (8.902150854450356e-26,0.07,1.15)\nn4_fit_sigma = [n4_idx25[0],n4_idx20[0],n4_idx15[0],n4_idx10[0]]\nn4_fit_factor = [n4_idx25[1],n4_idx20[1],n4_idx15[1],n4_idx10[1]]\nn4_fit_factor2 = [n4_idx50[2],n4_idx45[2],n4_idx40[2],n4_idx35[2],n4_idx30[2],n4_idx25[2],n4_idx20[2],n4_idx15[2],n4_idx10[2]]"
  },
  {
   "cell_type": "code",
   "execution_count": null,
   "metadata": {
    "scrolled": false
   },
   "outputs": [],
   "source": "plt.xscale('log')\nplt.xlim(1e-3,66)\nplt.ylim(0,1.5)\ntks,ks,sgma = single_tk(npow=4,label=\"n=2\",sigmas=smallSigs2,index=20,lw=1)\nfor i in range(len(ks)):\n    plt.scatter(ks[i],exponential(ks[i],0.3,1.07),s=0.5)"
  },
  {
   "cell_type": "markdown",
   "metadata": {},
   "source": "log(x) doesn't work because it is linear in logspace"
  },
  {
   "cell_type": "code",
   "execution_count": null,
   "metadata": {},
   "outputs": [],
   "source": "plt.scatter(fit_sigma,fit_factor)\nfor i in range(len(fit_sigma)):\n    plt.scatter(fit_sigma[i],A(fit_sigma[i],a2,b2),s=3)\nplt.xscale('log')\nplt.xlim(1e-25,1e-17)\n# plt.ylim(0,40)"
  },
  {
   "cell_type": "code",
   "execution_count": null,
   "metadata": {},
   "outputs": [],
   "source": ""
  }
 ],
 "metadata": {
  "anaconda-cloud": {},
  "kernelspec": {
   "display_name": "Python 2",
   "language": "python",
   "name": "python2"
  },
  "language_info": {
   "codemirror_mode": {
    "name": "ipython",
    "version": 2
   },
   "file_extension": ".py",
   "mimetype": "text/x-python",
   "name": "python",
   "nbconvert_exporter": "python",
   "pygments_lexer": "ipython2",
   "version": "2.7.15+"
  }
 },
 "nbformat": 4,
 "nbformat_minor": 1
}
